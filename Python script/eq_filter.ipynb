{
  "nbformat": 4,
  "nbformat_minor": 0,
  "metadata": {
    "colab": {
      "provenance": []
    },
    "kernelspec": {
      "name": "python3",
      "display_name": "Python 3"
    },
    "language_info": {
      "name": "python"
    }
  },
  "cells": [
    {
      "cell_type": "code",
      "execution_count": 1,
      "metadata": {
        "id": "f9vioL8riyxX"
      },
      "outputs": [],
      "source": [
        "import numpy as np\n",
        "import cv2 as cv\n",
        "import urllib.request as urllib\n",
        "from collections import defaultdict"
      ]
    },
    {
      "cell_type": "markdown",
      "source": [
        "Read Image"
      ],
      "metadata": {
        "id": "swWZO39xvRXV"
      }
    },
    {
      "cell_type": "code",
      "source": [
        "max_pixel_value = 256\n",
        "image_url = 'https://upload.wikimedia.org/wikipedia/en/thumb/7/7d/Lenna_%28test_image%29.png/330px-Lenna_%28test_image%29.png'\n",
        "req = urllib.urlopen(image_url)\n",
        "image_data = np.asarray(bytearray(req.read()), dtype=np.uint8)"
      ],
      "metadata": {
        "id": "fCtnh8_LvNr0"
      },
      "execution_count": 2,
      "outputs": []
    },
    {
      "cell_type": "markdown",
      "source": [
        "Cast dtype to 8 bit "
      ],
      "metadata": {
        "id": "WwJWLi0Pwkaa"
      }
    },
    {
      "cell_type": "code",
      "source": [
        "image = cv.imdecode(image_data, cv.IMREAD_GRAYSCALE)\n",
        "image_flattened = np.ravel(image)\n",
        "image_flattened = image_flattened.astype('uint8')"
      ],
      "metadata": {
        "id": "at17533lKHBd"
      },
      "execution_count": 4,
      "outputs": []
    },
    {
      "cell_type": "code",
      "source": [
        "def pixel_dist(image_flattened):\n",
        "  freqs = defaultdict(int,{i: 0 for i in range(max_pixel_value)})\n",
        "  for pixel in image_flattened:\n",
        "    freqs[pixel] +=1\n",
        "  return freqs"
      ],
      "metadata": {
        "id": "i3opYUsNi-o4"
      },
      "execution_count": 5,
      "outputs": []
    },
    {
      "cell_type": "code",
      "source": [
        "def cumulative_freq(freqs):\n",
        "  cuf = 0\n",
        "  cu_freqs = defaultdict(int,{i: 0 for i in range(max_pixel_value)});\n",
        "  for pixel in freqs.keys():\n",
        "    cuf+=freqs[pixel]\n",
        "    cu_freqs[pixel] = cuf\n",
        "  return cu_freqs"
      ],
      "metadata": {
        "id": "T2XxrqUllzGI"
      },
      "execution_count": 6,
      "outputs": []
    },
    {
      "cell_type": "code",
      "source": [
        "def dist_freq(image):\n",
        "  feq = int(image.size/max_pixel_value)\n",
        "  ufeq = image.size - feq*(max_pixel_value-1)\n",
        "  feqs = defaultdict(int,{i: feq for i in range(max_pixel_value)})\n",
        "  feqs[0] = ufeq\n",
        "  return feqs"
      ],
      "metadata": {
        "id": "IxPLAGtWNhWh"
      },
      "execution_count": 7,
      "outputs": []
    },
    {
      "cell_type": "code",
      "source": [
        "def cumulative_feqs(feqs):\n",
        "  cu_feqs = defaultdict(int,{i: 0 for i in range(max_pixel_value)});\n",
        "  cufeqs = 0\n",
        "  for pixel in feqs.keys():\n",
        "    cufeqs+=feqs[pixel]\n",
        "    cu_feqs[pixel] = cufeqs\n",
        "  return cu_feqs"
      ],
      "metadata": {
        "id": "gcpF6Bh3SmFW"
      },
      "execution_count": 8,
      "outputs": []
    },
    {
      "cell_type": "code",
      "source": [
        "pixel_values = pixel_dist(image_flattened)\n",
        "freqs = pixel_dist(pixel_values)\n",
        "cuf = cumulative_freq(freqs)\n",
        "feqs = dist_freq(image)\n",
        "cu_feqs = cumulative_feqs(feqs)\n",
        "\n",
        "freq_dist_cu = np.vstack((np.array(list(freqs.keys())),np.array(list(freqs.values())),\n",
        "                          np.array(list(cuf.values())),np.array(list(feqs.values())),np.array(list(cu_feqs.values()))))\n",
        "freq_dist_cu"
      ],
      "metadata": {
        "colab": {
          "base_uri": "https://localhost:8080/"
        },
        "id": "UVxW-t_AXkO1",
        "outputId": "af05f956-d4a5-4c15-9786-03edcfd061d3"
      },
      "execution_count": 13,
      "outputs": [
        {
          "output_type": "execute_result",
          "data": {
            "text/plain": [
              "array([[     0,      1,      2, ...,    253,    254,    255],\n",
              "       [     1,      1,      1, ...,      1,      1,      1],\n",
              "       [     1,      2,      3, ...,    254,    255,    256],\n",
              "       [   525,    425,    425, ...,    425,    425,    425],\n",
              "       [   525,    950,   1375, ..., 108050, 108475, 108900]])"
            ]
          },
          "metadata": {},
          "execution_count": 13
        }
      ]
    }
  ]
}