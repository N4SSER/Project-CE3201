{
  "nbformat": 4,
  "nbformat_minor": 0,
  "metadata": {
    "colab": {
      "provenance": []
    },
    "kernelspec": {
      "name": "python3",
      "display_name": "Python 3"
    },
    "language_info": {
      "name": "python"
    }
  },
  "cells": [
    {
      "cell_type": "code",
      "execution_count": 4,
      "metadata": {
        "id": "f9vioL8riyxX"
      },
      "outputs": [],
      "source": [
        "import numpy as np\n",
        "import cv2 as cv\n",
        "import urllib.request as urllib\n",
        "from collections import defaultdict"
      ]
    },
    {
      "cell_type": "code",
      "source": [
        "max_pixel_value = 256\n",
        "image_url = 'https://upload.wikimedia.org/wikipedia/en/thumb/7/7d/Lenna_%28test_image%29.png/330px-Lenna_%28test_image%29.png'\n",
        "\n",
        "req = urllib.urlopen(image_url)\n",
        "image_data = np.asarray(bytearray(req.read()), dtype=np.uint8)\n",
        "\n",
        "image = cv.imdecode(image_data, cv.IMREAD_GRAYSCALE)"
      ],
      "metadata": {
        "id": "at17533lKHBd"
      },
      "execution_count": 28,
      "outputs": []
    },
    {
      "cell_type": "code",
      "source": [
        "def pixel_dist(image):\n",
        "  freqs = defaultdict(int,{i: 0 for i in range(max_pixel_value)})\n",
        "  image_flattened = np.ravel(image)\n",
        "  for pixel in image_flattened:\n",
        "    freqs[pixel] +=1\n",
        "  return freqs"
      ],
      "metadata": {
        "id": "i3opYUsNi-o4"
      },
      "execution_count": 6,
      "outputs": []
    },
    {
      "cell_type": "code",
      "source": [
        "def cumulative_freq(freqs):\n",
        "  cuf = 0\n",
        "  cu_freqs = defaultdict(int,{i: 0 for i in range(max_pixel_value)});\n",
        "  for pixel in freqs.keys():\n",
        "    cuf+=freqs[pixel]\n",
        "    cu_freqs[pixel] = cuf\n",
        "  return cu_freqs"
      ],
      "metadata": {
        "id": "T2XxrqUllzGI"
      },
      "execution_count": 29,
      "outputs": []
    },
    {
      "cell_type": "code",
      "source": [
        "def dist_freq(image):\n",
        "  feq = int(image.size/max_pixel_value)\n",
        "  ufeq = image.size - feq*(max_pixel_value-1)\n",
        "  feqs = defaultdict(int,{i: feq for i in range(max_pixel_value)})\n",
        "  feqs[0] = ufeq\n",
        "  return feqs"
      ],
      "metadata": {
        "id": "IxPLAGtWNhWh"
      },
      "execution_count": 33,
      "outputs": []
    },
    {
      "cell_type": "code",
      "source": [
        "def cumulative_feqs(feqs):\n",
        "  cu_feqs = defaultdict(int,{i: 0 for i in range(max_pixel_value)});\n",
        "  cufeqs = 0\n",
        "  for pixel in feqs.keys():\n",
        "    cufeqs+=feqs[pixel]\n",
        "    cu_feqs[pixel] = cufeqs\n",
        "  return cu_feqs"
      ],
      "metadata": {
        "id": "gcpF6Bh3SmFW"
      },
      "execution_count": 40,
      "outputs": []
    },
    {
      "cell_type": "code",
      "source": [
        "pixel_values = pixel_dist(image)\n",
        "freqs = pixel_dist(image)\n",
        "cuf = cumulative_freq(freqs)\n",
        "feqs = dist_freq(image)\n",
        "cu_feqs = cumulative_feqs(feqs)\n",
        "\n",
        "freq_dist_cu = np.vstack((np.array(list(freqs.keys())),np.array(list(freqs.values())),\n",
        "                          np.array(list(cuf.values())),np.array(list(feqs.values())),np.array(list(cu_feqs.values()))))\n",
        "freq_dist_cu"
      ],
      "metadata": {
        "colab": {
          "base_uri": "https://localhost:8080/"
        },
        "id": "UVxW-t_AXkO1",
        "outputId": "a341aff5-533b-4e0a-bfa5-2a5393e351ad"
      },
      "execution_count": 49,
      "outputs": [
        {
          "output_type": "execute_result",
          "data": {
            "text/plain": [
              "array([[     0,      1,      2, ...,    253,    254,    255],\n",
              "       [     0,      0,      0, ...,      0,      0,      0],\n",
              "       [     0,      0,      0, ..., 108900, 108900, 108900],\n",
              "       [   525,    425,    425, ...,    425,    425,    425],\n",
              "       [   525,    950,   1375, ..., 108050, 108475, 108900]])"
            ]
          },
          "metadata": {},
          "execution_count": 49
        }
      ]
    }
  ]
}